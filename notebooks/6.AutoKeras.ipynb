{
 "cells": [
  {
   "cell_type": "markdown",
   "metadata": {},
   "source": [
    "### 1. Library import and dataset loading"
   ]
  },
  {
   "cell_type": "code",
   "execution_count": 2,
   "metadata": {},
   "outputs": [
    {
     "name": "stdout",
     "output_type": "stream",
     "text": [
      "Using TensorFlow backend\n"
     ]
    }
   ],
   "source": [
    "import pandas as pd\n",
    "import autokeras as ak\n",
    "import numpy as np\n",
    "import tensorflow as tf\n",
    "\n",
    "from sklearn.model_selection import train_test_split\n",
    "\n",
    "\n",
    "\n",
    "df = pd.read_csv('../data/df_prepped.csv')\n",
    "df_label = df.loc[:,['Countries','Farm']]\n",
    "df = df.drop(['Countries','Farm'], axis=1)\n"
   ]
  },
  {
   "cell_type": "markdown",
   "metadata": {},
   "source": [
    "### 2. Separating Train and Test Data\n"
   ]
  },
  {
   "cell_type": "code",
   "execution_count": 3,
   "metadata": {},
   "outputs": [],
   "source": [
    "df_test = df[df.Year == 2016].sort_values('Year')\n",
    "df_train = df[df.Year != 2016]\n"
   ]
  },
  {
   "cell_type": "markdown",
   "metadata": {},
   "source": [
    "### 3. Preparing Data for AutoKeras\n",
    "\n",
    "AutoKeras requires data to have separated features and target variable."
   ]
  },
  {
   "cell_type": "code",
   "execution_count": 4,
   "metadata": {},
   "outputs": [
    {
     "name": "stdout",
     "output_type": "stream",
     "text": [
      "Columns in df_train: Index(['Year', 'Sand_1', 'Sand_2', 'Sand_3', 'Sand_4', 'Sand_5', 'Sand_6',\n",
      "       'Sand_7', 'Clay_1', 'Clay_2', 'Clay_3', 'Clay_4', 'Clay_5', 'Clay_6',\n",
      "       'Clay_7', 'OC_1', 'OC_2', 'OC_3', 'OC_4', 'OC_5', 'OC_6', 'OC_7',\n",
      "       'PAW_1', 'PAW_2', 'PAW_3', 'PAW_4', 'PAW_5', 'PAW_6', 'PAW_7',\n",
      "       'Y_maize_major', 'Sow_Maize_month_int', 'Harvest_Maize_month_int',\n",
      "       'sow_to_harvest_months', 'maize_lag-1', 'pcp_mean_lag-1',\n",
      "       'tmax_mean_lag-1', 'tmin_mean_lag-1', 'spi_mean_lag-1', 'maize_lag-2',\n",
      "       'pcp_mean_lag-2', 'tmax_mean_lag-2', 'tmin_mean_lag-2',\n",
      "       'spi_mean_lag-2', 'maize_lag-3', 'pcp_mean_lag-3', 'tmax_mean_lag-3',\n",
      "       'tmin_mean_lag-3', 'spi_mean_lag-3'],\n",
      "      dtype='object')\n",
      "Columns in df_test: Index(['Year', 'Sand_1', 'Sand_2', 'Sand_3', 'Sand_4', 'Sand_5', 'Sand_6',\n",
      "       'Sand_7', 'Clay_1', 'Clay_2', 'Clay_3', 'Clay_4', 'Clay_5', 'Clay_6',\n",
      "       'Clay_7', 'OC_1', 'OC_2', 'OC_3', 'OC_4', 'OC_5', 'OC_6', 'OC_7',\n",
      "       'PAW_1', 'PAW_2', 'PAW_3', 'PAW_4', 'PAW_5', 'PAW_6', 'PAW_7',\n",
      "       'Y_maize_major', 'Sow_Maize_month_int', 'Harvest_Maize_month_int',\n",
      "       'sow_to_harvest_months', 'maize_lag-1', 'pcp_mean_lag-1',\n",
      "       'tmax_mean_lag-1', 'tmin_mean_lag-1', 'spi_mean_lag-1', 'maize_lag-2',\n",
      "       'pcp_mean_lag-2', 'tmax_mean_lag-2', 'tmin_mean_lag-2',\n",
      "       'spi_mean_lag-2', 'maize_lag-3', 'pcp_mean_lag-3', 'tmax_mean_lag-3',\n",
      "       'tmin_mean_lag-3', 'spi_mean_lag-3'],\n",
      "      dtype='object')\n"
     ]
    }
   ],
   "source": [
    "# Check columns in df_train and df_test\n",
    "print(\"Columns in df_train:\", df_train.columns)\n",
    "print(\"Columns in df_test:\", df_test.columns)"
   ]
  },
  {
   "cell_type": "code",
   "execution_count": 5,
   "metadata": {},
   "outputs": [],
   "source": [
    "y_train = df_train.pop('Y_maize_major')\n",
    "y_test = df_test.pop('Y_maize_major')\n",
    "\n",
    "x_train = df_train\n",
    "x_test = df_test\n"
   ]
  },
  {
   "cell_type": "markdown",
   "metadata": {},
   "source": [
    "### 4. Defining the AutoKeras Model\n",
    "Here, we  define the type of model we want AutoKeras to search for. For a regression task, we are using StructuredDataRegressor."
   ]
  },
  {
   "cell_type": "code",
   "execution_count": 6,
   "metadata": {},
   "outputs": [
    {
     "name": "stdout",
     "output_type": "stream",
     "text": [
      "Reloading Tuner from .\\structured_data_regressor\\tuner0.json\n"
     ]
    }
   ],
   "source": [
    "reg = ak.StructuredDataRegressor(max_trials=40, loss='mean_absolute_error')\n"
   ]
  },
  {
   "cell_type": "markdown",
   "metadata": {},
   "source": [
    "### 5. Training the Model\n",
    "Fit the model on the training data."
   ]
  },
  {
   "cell_type": "code",
   "execution_count": 7,
   "metadata": {},
   "outputs": [
    {
     "name": "stdout",
     "output_type": "stream",
     "text": [
      "Trial 46 Complete [00h 03m 49s]\n",
      "val_loss: 0.27093398571014404\n",
      "\n",
      "Best val_loss So Far: 0.25803256034851074\n",
      "Total elapsed time: 09h 08m 36s\n",
      "Epoch 1/30\n",
      "919/919 [==============================] - 5s 4ms/step - loss: 1.1842 - mean_squared_error: 3.2778\n",
      "Epoch 2/30\n",
      "919/919 [==============================] - 3s 4ms/step - loss: 0.6390 - mean_squared_error: 0.9098\n",
      "Epoch 3/30\n",
      "919/919 [==============================] - 3s 4ms/step - loss: 0.4976 - mean_squared_error: 0.5563\n",
      "Epoch 4/30\n",
      "919/919 [==============================] - 3s 4ms/step - loss: 0.4663 - mean_squared_error: 0.4974\n",
      "Epoch 5/30\n",
      "919/919 [==============================] - 4s 4ms/step - loss: 0.4475 - mean_squared_error: 0.4633\n",
      "Epoch 6/30\n",
      "919/919 [==============================] - 3s 4ms/step - loss: 0.4328 - mean_squared_error: 0.4466\n",
      "Epoch 7/30\n",
      "919/919 [==============================] - 3s 4ms/step - loss: 0.4141 - mean_squared_error: 0.4054\n",
      "Epoch 8/30\n",
      "919/919 [==============================] - 3s 4ms/step - loss: 0.4124 - mean_squared_error: 0.4160\n",
      "Epoch 9/30\n",
      "919/919 [==============================] - 3s 4ms/step - loss: 0.4040 - mean_squared_error: 0.3865\n",
      "Epoch 10/30\n",
      "919/919 [==============================] - 3s 4ms/step - loss: 0.3987 - mean_squared_error: 0.3905\n",
      "Epoch 11/30\n",
      "919/919 [==============================] - 3s 3ms/step - loss: 0.3945 - mean_squared_error: 0.3872\n",
      "Epoch 12/30\n",
      "919/919 [==============================] - 3s 3ms/step - loss: 0.3895 - mean_squared_error: 0.3802\n",
      "Epoch 13/30\n",
      "919/919 [==============================] - 3s 3ms/step - loss: 0.3833 - mean_squared_error: 0.3677\n",
      "Epoch 14/30\n",
      "919/919 [==============================] - 3s 3ms/step - loss: 0.3787 - mean_squared_error: 0.3658\n",
      "Epoch 15/30\n",
      "919/919 [==============================] - 3s 3ms/step - loss: 0.3702 - mean_squared_error: 0.3462\n",
      "Epoch 16/30\n",
      "919/919 [==============================] - 3s 3ms/step - loss: 0.3703 - mean_squared_error: 0.3572\n",
      "Epoch 17/30\n",
      "919/919 [==============================] - 4s 4ms/step - loss: 0.3674 - mean_squared_error: 0.3509\n",
      "Epoch 18/30\n",
      "919/919 [==============================] - 4s 4ms/step - loss: 0.3658 - mean_squared_error: 0.3505\n",
      "Epoch 19/30\n",
      "919/919 [==============================] - 3s 4ms/step - loss: 0.3610 - mean_squared_error: 0.3345\n",
      "Epoch 20/30\n",
      "919/919 [==============================] - 3s 4ms/step - loss: 0.3587 - mean_squared_error: 0.3400\n",
      "Epoch 21/30\n",
      "919/919 [==============================] - 3s 4ms/step - loss: 0.3597 - mean_squared_error: 0.3413\n",
      "Epoch 22/30\n",
      "919/919 [==============================] - 3s 3ms/step - loss: 0.3578 - mean_squared_error: 0.3376\n",
      "Epoch 23/30\n",
      "919/919 [==============================] - 4s 4ms/step - loss: 0.3565 - mean_squared_error: 0.3295\n",
      "Epoch 24/30\n",
      "919/919 [==============================] - 4s 4ms/step - loss: 0.3493 - mean_squared_error: 0.3196\n",
      "Epoch 25/30\n",
      "919/919 [==============================] - 3s 3ms/step - loss: 0.3518 - mean_squared_error: 0.3294\n",
      "Epoch 26/30\n",
      "919/919 [==============================] - 4s 4ms/step - loss: 0.3497 - mean_squared_error: 0.3189\n",
      "Epoch 27/30\n",
      "919/919 [==============================] - 3s 4ms/step - loss: 0.3451 - mean_squared_error: 0.3112\n",
      "Epoch 28/30\n",
      "919/919 [==============================] - 3s 4ms/step - loss: 0.3450 - mean_squared_error: 0.3171\n",
      "Epoch 29/30\n",
      "919/919 [==============================] - 3s 4ms/step - loss: 0.3447 - mean_squared_error: 0.3122\n",
      "Epoch 30/30\n",
      "919/919 [==============================] - 3s 4ms/step - loss: 0.3451 - mean_squared_error: 0.3206\n"
     ]
    },
    {
     "name": "stderr",
     "output_type": "stream",
     "text": [
      "WARNING:absl:Found untraced functions such as _update_step_xla while saving (showing 1 of 1). These functions will not be directly callable after loading.\n"
     ]
    },
    {
     "name": "stdout",
     "output_type": "stream",
     "text": [
      "INFO:tensorflow:Assets written to: .\\structured_data_regressor\\best_model\\assets\n"
     ]
    },
    {
     "name": "stderr",
     "output_type": "stream",
     "text": [
      "INFO:tensorflow:Assets written to: .\\structured_data_regressor\\best_model\\assets\n"
     ]
    },
    {
     "data": {
      "text/plain": [
       "<keras.callbacks.History at 0x2d8a4d92bc0>"
      ]
     },
     "execution_count": 7,
     "metadata": {},
     "output_type": "execute_result"
    }
   ],
   "source": [
    "reg.fit(x_train, y_train, epochs=30)"
   ]
  },
  {
   "cell_type": "markdown",
   "metadata": {},
   "source": [
    "### 6. Evaluating and Predicting"
   ]
  },
  {
   "cell_type": "code",
   "execution_count": 13,
   "metadata": {},
   "outputs": [
    {
     "name": "stdout",
     "output_type": "stream",
     "text": [
      "92/92 [==============================] - 3s 8ms/step - loss: 0.2167 - mean_squared_error: 0.1130\n",
      "MAE: 0.11300051212310791\n",
      "92/92 [==============================] - 4s 13ms/step\n",
      "92/92 [==============================] - 0s 3ms/step\n"
     ]
    }
   ],
   "source": [
    "loss, mae = reg.evaluate(x_test, y_test)\n",
    "print('MAE:', mae)\n",
    "\n",
    "predictions = reg.predict(x_test)"
   ]
  },
  {
   "cell_type": "code",
   "execution_count": 14,
   "metadata": {},
   "outputs": [
    {
     "name": "stdout",
     "output_type": "stream",
     "text": [
      "RMSE: 0.3361547262794322\n"
     ]
    }
   ],
   "source": [
    "import math\n",
    "\n",
    "mse = 0.1130\n",
    "rmse = math.sqrt(mse)\n",
    "print(\"RMSE:\", rmse)\n"
   ]
  },
  {
   "cell_type": "markdown",
   "metadata": {},
   "source": [
    "### 7. Exporting the Model"
   ]
  },
  {
   "cell_type": "code",
   "execution_count": 9,
   "metadata": {},
   "outputs": [
    {
     "name": "stderr",
     "output_type": "stream",
     "text": [
      "WARNING:absl:Found untraced functions such as _update_step_xla while saving (showing 1 of 1). These functions will not be directly callable after loading.\n"
     ]
    },
    {
     "name": "stdout",
     "output_type": "stream",
     "text": [
      "INFO:tensorflow:Assets written to: ../models/autokeras_best_model.tf\\assets\n"
     ]
    },
    {
     "name": "stderr",
     "output_type": "stream",
     "text": [
      "INFO:tensorflow:Assets written to: ../models/autokeras_best_model.tf\\assets\n"
     ]
    }
   ],
   "source": [
    "model = reg.export_model()\n",
    "model.save('../models/autokeras_best_model.tf')"
   ]
  },
  {
   "cell_type": "code",
   "execution_count": 10,
   "metadata": {},
   "outputs": [
    {
     "data": {
      "text/plain": [
       "<keras.engine.functional.Functional at 0x2d8703a5180>"
      ]
     },
     "execution_count": 10,
     "metadata": {},
     "output_type": "execute_result"
    }
   ],
   "source": [
    "model"
   ]
  }
 ],
 "metadata": {
  "kernelspec": {
   "display_name": "Python 3",
   "language": "python",
   "name": "python3"
  },
  "language_info": {
   "codemirror_mode": {
    "name": "ipython",
    "version": 3
   },
   "file_extension": ".py",
   "mimetype": "text/x-python",
   "name": "python",
   "nbconvert_exporter": "python",
   "pygments_lexer": "ipython3",
   "version": "3.10.11"
  }
 },
 "nbformat": 4,
 "nbformat_minor": 2
}
