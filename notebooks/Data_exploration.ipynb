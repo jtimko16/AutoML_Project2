{
 "cells": [
  {
   "cell_type": "markdown",
   "metadata": {},
   "source": [
    "### Aim of this notebook is to explore the dataset"
   ]
  },
  {
   "cell_type": "markdown",
   "metadata": {},
   "source": [
    "##### Import modules"
   ]
  },
  {
   "cell_type": "code",
   "execution_count": 3,
   "metadata": {},
   "outputs": [],
   "source": [
    "from numbers_parser import Document\n",
    "import pandas as pd"
   ]
  },
  {
   "cell_type": "markdown",
   "metadata": {},
   "source": [
    "#### Import data"
   ]
  },
  {
   "cell_type": "code",
   "execution_count": 8,
   "metadata": {},
   "outputs": [
    {
     "ename": "KeyboardInterrupt",
     "evalue": "",
     "output_type": "error",
     "traceback": [
      "\u001b[1;31m---------------------------------------------------------------------------\u001b[0m",
      "\u001b[1;31mKeyboardInterrupt\u001b[0m                         Traceback (most recent call last)",
      "\u001b[1;32mc:\\GIT\\AutoML_Project2\\notebooks\\Data_exploration.ipynb Cell 5\u001b[0m line \u001b[0;36m1\n\u001b[1;32m----> <a href='vscode-notebook-cell:/c%3A/GIT/AutoML_Project2/notebooks/Data_exploration.ipynb#W6sZmlsZQ%3D%3D?line=0'>1</a>\u001b[0m doc \u001b[39m=\u001b[39m Document(\u001b[39m\"\u001b[39;49m\u001b[39m..\u001b[39;49m\u001b[39m\\\u001b[39;49m\u001b[39mdata\u001b[39;49m\u001b[39m\\\u001b[39;49m\u001b[39mFinal_Africa_Master_File.numbers\u001b[39;49m\u001b[39m\"\u001b[39;49m)\n\u001b[0;32m      <a href='vscode-notebook-cell:/c%3A/GIT/AutoML_Project2/notebooks/Data_exploration.ipynb#W6sZmlsZQ%3D%3D?line=1'>2</a>\u001b[0m sheets \u001b[39m=\u001b[39m doc\u001b[39m.\u001b[39msheets\n\u001b[0;32m      <a href='vscode-notebook-cell:/c%3A/GIT/AutoML_Project2/notebooks/Data_exploration.ipynb#W6sZmlsZQ%3D%3D?line=2'>3</a>\u001b[0m tables \u001b[39m=\u001b[39m sheets[\u001b[39m0\u001b[39m]\u001b[39m.\u001b[39mtables\n",
      "File \u001b[1;32mc:\\GIT\\AutoML_Project2\\.venv\\lib\\site-packages\\numbers_parser\\document.py:42\u001b[0m, in \u001b[0;36mDocument.__init__\u001b[1;34m(self, filename, sheet_name, table_name, num_header_rows, num_header_cols, num_rows, num_cols)\u001b[0m\n\u001b[0;32m     40\u001b[0m \u001b[39mself\u001b[39m\u001b[39m.\u001b[39m_model \u001b[39m=\u001b[39m _NumbersModel(filename)\n\u001b[0;32m     41\u001b[0m refs \u001b[39m=\u001b[39m \u001b[39mself\u001b[39m\u001b[39m.\u001b[39m_model\u001b[39m.\u001b[39msheet_ids()\n\u001b[1;32m---> 42\u001b[0m \u001b[39mself\u001b[39m\u001b[39m.\u001b[39m_sheets \u001b[39m=\u001b[39m ItemsList(\u001b[39mself\u001b[39;49m\u001b[39m.\u001b[39;49m_model, refs, Sheet)\n\u001b[0;32m     44\u001b[0m \u001b[39mif\u001b[39;00m filename \u001b[39mis\u001b[39;00m \u001b[39mNone\u001b[39;00m:\n\u001b[0;32m     45\u001b[0m     \u001b[39mif\u001b[39;00m sheet_name \u001b[39mis\u001b[39;00m \u001b[39mnot\u001b[39;00m \u001b[39mNone\u001b[39;00m:\n",
      "File \u001b[1;32mc:\\GIT\\AutoML_Project2\\.venv\\lib\\site-packages\\numbers_parser\\containers.py:11\u001b[0m, in \u001b[0;36mItemsList.__init__\u001b[1;34m(self, model, refs, item_class)\u001b[0m\n\u001b[0;32m      9\u001b[0m \u001b[39mdef\u001b[39;00m \u001b[39m__init__\u001b[39m(\u001b[39mself\u001b[39m, model, refs, item_class):\n\u001b[0;32m     10\u001b[0m     \u001b[39mself\u001b[39m\u001b[39m.\u001b[39m_item_name \u001b[39m=\u001b[39m item_class\u001b[39m.\u001b[39m\u001b[39m__name__\u001b[39m\u001b[39m.\u001b[39mlower()\n\u001b[1;32m---> 11\u001b[0m     \u001b[39mself\u001b[39m\u001b[39m.\u001b[39m_items \u001b[39m=\u001b[39m [item_class(model, _) \u001b[39mfor\u001b[39;00m _ \u001b[39min\u001b[39;00m refs]\n",
      "File \u001b[1;32mc:\\GIT\\AutoML_Project2\\.venv\\lib\\site-packages\\numbers_parser\\containers.py:11\u001b[0m, in \u001b[0;36m<listcomp>\u001b[1;34m(.0)\u001b[0m\n\u001b[0;32m      9\u001b[0m \u001b[39mdef\u001b[39;00m \u001b[39m__init__\u001b[39m(\u001b[39mself\u001b[39m, model, refs, item_class):\n\u001b[0;32m     10\u001b[0m     \u001b[39mself\u001b[39m\u001b[39m.\u001b[39m_item_name \u001b[39m=\u001b[39m item_class\u001b[39m.\u001b[39m\u001b[39m__name__\u001b[39m\u001b[39m.\u001b[39mlower()\n\u001b[1;32m---> 11\u001b[0m     \u001b[39mself\u001b[39m\u001b[39m.\u001b[39m_items \u001b[39m=\u001b[39m [item_class(model, _) \u001b[39mfor\u001b[39;00m _ \u001b[39min\u001b[39;00m refs]\n",
      "File \u001b[1;32mc:\\GIT\\AutoML_Project2\\.venv\\lib\\site-packages\\numbers_parser\\document.py:137\u001b[0m, in \u001b[0;36mSheet.__init__\u001b[1;34m(self, model, sheet_id)\u001b[0m\n\u001b[0;32m    135\u001b[0m \u001b[39mself\u001b[39m\u001b[39m.\u001b[39m_model \u001b[39m=\u001b[39m model\n\u001b[0;32m    136\u001b[0m refs \u001b[39m=\u001b[39m \u001b[39mself\u001b[39m\u001b[39m.\u001b[39m_model\u001b[39m.\u001b[39mtable_ids(\u001b[39mself\u001b[39m\u001b[39m.\u001b[39m_sheet_id)\n\u001b[1;32m--> 137\u001b[0m \u001b[39mself\u001b[39m\u001b[39m.\u001b[39m_tables \u001b[39m=\u001b[39m ItemsList(\u001b[39mself\u001b[39;49m\u001b[39m.\u001b[39;49m_model, refs, Table)\n",
      "File \u001b[1;32mc:\\GIT\\AutoML_Project2\\.venv\\lib\\site-packages\\numbers_parser\\containers.py:11\u001b[0m, in \u001b[0;36mItemsList.__init__\u001b[1;34m(self, model, refs, item_class)\u001b[0m\n\u001b[0;32m      9\u001b[0m \u001b[39mdef\u001b[39;00m \u001b[39m__init__\u001b[39m(\u001b[39mself\u001b[39m, model, refs, item_class):\n\u001b[0;32m     10\u001b[0m     \u001b[39mself\u001b[39m\u001b[39m.\u001b[39m_item_name \u001b[39m=\u001b[39m item_class\u001b[39m.\u001b[39m\u001b[39m__name__\u001b[39m\u001b[39m.\u001b[39mlower()\n\u001b[1;32m---> 11\u001b[0m     \u001b[39mself\u001b[39m\u001b[39m.\u001b[39m_items \u001b[39m=\u001b[39m [item_class(model, _) \u001b[39mfor\u001b[39;00m _ \u001b[39min\u001b[39;00m refs]\n",
      "File \u001b[1;32mc:\\GIT\\AutoML_Project2\\.venv\\lib\\site-packages\\numbers_parser\\containers.py:11\u001b[0m, in \u001b[0;36m<listcomp>\u001b[1;34m(.0)\u001b[0m\n\u001b[0;32m      9\u001b[0m \u001b[39mdef\u001b[39;00m \u001b[39m__init__\u001b[39m(\u001b[39mself\u001b[39m, model, refs, item_class):\n\u001b[0;32m     10\u001b[0m     \u001b[39mself\u001b[39m\u001b[39m.\u001b[39m_item_name \u001b[39m=\u001b[39m item_class\u001b[39m.\u001b[39m\u001b[39m__name__\u001b[39m\u001b[39m.\u001b[39mlower()\n\u001b[1;32m---> 11\u001b[0m     \u001b[39mself\u001b[39m\u001b[39m.\u001b[39m_items \u001b[39m=\u001b[39m [item_class(model, _) \u001b[39mfor\u001b[39;00m _ \u001b[39min\u001b[39;00m refs]\n",
      "File \u001b[1;32mc:\\GIT\\AutoML_Project2\\.venv\\lib\\site-packages\\numbers_parser\\document.py:200\u001b[0m, in \u001b[0;36mTable.__init__\u001b[1;34m(self, model, table_id)\u001b[0m\n\u001b[0;32m    198\u001b[0m \u001b[39mself\u001b[39m\u001b[39m.\u001b[39m_data\u001b[39m.\u001b[39mappend([])\n\u001b[0;32m    199\u001b[0m \u001b[39mfor\u001b[39;00m col_num \u001b[39min\u001b[39;00m \u001b[39mrange\u001b[39m(\u001b[39mself\u001b[39m\u001b[39m.\u001b[39mnum_cols):\n\u001b[1;32m--> 200\u001b[0m     cell_storage \u001b[39m=\u001b[39m model\u001b[39m.\u001b[39;49mtable_cell_decode(table_id, row_num, col_num)\n\u001b[0;32m    201\u001b[0m     \u001b[39mif\u001b[39;00m cell_storage \u001b[39mis\u001b[39;00m \u001b[39mNone\u001b[39;00m:\n\u001b[0;32m    202\u001b[0m         \u001b[39mif\u001b[39;00m merge_cells\u001b[39m.\u001b[39mis_merge_reference((row_num, col_num)):\n",
      "File \u001b[1;32mc:\\GIT\\AutoML_Project2\\.venv\\lib\\site-packages\\numbers_parser\\numbers_cache.py:24\u001b[0m, in \u001b[0;36mcache.<locals>.cache_decorator.<locals>.inner_multi_args\u001b[1;34m(self, *args, **kwargs)\u001b[0m\n\u001b[0;32m     22\u001b[0m     \u001b[39mreturn\u001b[39;00m \u001b[39mself\u001b[39m\u001b[39m.\u001b[39m_cache[method][key]\n\u001b[0;32m     23\u001b[0m \u001b[39melse\u001b[39;00m:\n\u001b[1;32m---> 24\u001b[0m     value \u001b[39m=\u001b[39m func(\u001b[39mself\u001b[39m, \u001b[39m*\u001b[39margs, \u001b[39m*\u001b[39m\u001b[39m*\u001b[39mkwargs)\n\u001b[0;32m     25\u001b[0m     \u001b[39mself\u001b[39m\u001b[39m.\u001b[39m_cache[method][key] \u001b[39m=\u001b[39m value\n\u001b[0;32m     26\u001b[0m     \u001b[39mreturn\u001b[39;00m value\n",
      "File \u001b[1;32mc:\\GIT\\AutoML_Project2\\.venv\\lib\\site-packages\\numbers_parser\\model.py:1584\u001b[0m, in \u001b[0;36m_NumbersModel.table_cell_decode\u001b[1;34m(self, table_id, row_num, col_num)\u001b[0m\n\u001b[0;32m   1582\u001b[0m \u001b[39m@cache\u001b[39m(num_args\u001b[39m=\u001b[39m\u001b[39m3\u001b[39m)\n\u001b[0;32m   1583\u001b[0m \u001b[39mdef\u001b[39;00m \u001b[39mtable_cell_decode\u001b[39m(\u001b[39mself\u001b[39m, table_id: \u001b[39mint\u001b[39m, row_num: \u001b[39mint\u001b[39m, col_num: \u001b[39mint\u001b[39m) \u001b[39m-\u001b[39m\u001b[39m>\u001b[39m Dict:  \u001b[39m# noqa: C901\u001b[39;00m\n\u001b[1;32m-> 1584\u001b[0m     buffer \u001b[39m=\u001b[39m \u001b[39mself\u001b[39;49m\u001b[39m.\u001b[39;49mstorage_buffer(table_id, row_num, col_num)\n\u001b[0;32m   1585\u001b[0m     \u001b[39mif\u001b[39;00m buffer \u001b[39mis\u001b[39;00m \u001b[39mNone\u001b[39;00m:\n\u001b[0;32m   1586\u001b[0m         \u001b[39mreturn\u001b[39;00m \u001b[39mNone\u001b[39;00m\n",
      "File \u001b[1;32mc:\\GIT\\AutoML_Project2\\.venv\\lib\\site-packages\\numbers_parser\\numbers_cache.py:24\u001b[0m, in \u001b[0;36mcache.<locals>.cache_decorator.<locals>.inner_multi_args\u001b[1;34m(self, *args, **kwargs)\u001b[0m\n\u001b[0;32m     22\u001b[0m     \u001b[39mreturn\u001b[39;00m \u001b[39mself\u001b[39m\u001b[39m.\u001b[39m_cache[method][key]\n\u001b[0;32m     23\u001b[0m \u001b[39melse\u001b[39;00m:\n\u001b[1;32m---> 24\u001b[0m     value \u001b[39m=\u001b[39m func(\u001b[39mself\u001b[39m, \u001b[39m*\u001b[39margs, \u001b[39m*\u001b[39m\u001b[39m*\u001b[39mkwargs)\n\u001b[0;32m     25\u001b[0m     \u001b[39mself\u001b[39m\u001b[39m.\u001b[39m_cache[method][key] \u001b[39m=\u001b[39m value\n\u001b[0;32m     26\u001b[0m     \u001b[39mreturn\u001b[39;00m value\n",
      "File \u001b[1;32mc:\\GIT\\AutoML_Project2\\.venv\\lib\\site-packages\\numbers_parser\\model.py:622\u001b[0m, in \u001b[0;36m_NumbersModel.storage_buffer\u001b[1;34m(self, table_id, row_num, col_num)\u001b[0m\n\u001b[0;32m    620\u001b[0m \u001b[39mif\u001b[39;00m row_offset \u001b[39mis\u001b[39;00m \u001b[39mNone\u001b[39;00m:\n\u001b[0;32m    621\u001b[0m     \u001b[39mreturn\u001b[39;00m \u001b[39mNone\u001b[39;00m\n\u001b[1;32m--> 622\u001b[0m storage_buffers \u001b[39m=\u001b[39m \u001b[39mself\u001b[39;49m\u001b[39m.\u001b[39;49mstorage_buffers(table_id)\n\u001b[0;32m    623\u001b[0m \u001b[39mif\u001b[39;00m row_offset \u001b[39m>\u001b[39m\u001b[39m=\u001b[39m \u001b[39mlen\u001b[39m(storage_buffers):\n\u001b[0;32m    624\u001b[0m     \u001b[39mreturn\u001b[39;00m \u001b[39mNone\u001b[39;00m\n",
      "File \u001b[1;32mc:\\GIT\\AutoML_Project2\\.venv\\lib\\site-packages\\numbers_parser\\numbers_cache.py:24\u001b[0m, in \u001b[0;36mcache.<locals>.cache_decorator.<locals>.inner_multi_args\u001b[1;34m(self, *args, **kwargs)\u001b[0m\n\u001b[0;32m     22\u001b[0m     \u001b[39mreturn\u001b[39;00m \u001b[39mself\u001b[39m\u001b[39m.\u001b[39m_cache[method][key]\n\u001b[0;32m     23\u001b[0m \u001b[39melse\u001b[39;00m:\n\u001b[1;32m---> 24\u001b[0m     value \u001b[39m=\u001b[39m func(\u001b[39mself\u001b[39m, \u001b[39m*\u001b[39margs, \u001b[39m*\u001b[39m\u001b[39m*\u001b[39mkwargs)\n\u001b[0;32m     25\u001b[0m     \u001b[39mself\u001b[39m\u001b[39m.\u001b[39m_cache[method][key] \u001b[39m=\u001b[39m value\n\u001b[0;32m     26\u001b[0m     \u001b[39mreturn\u001b[39;00m value\n",
      "File \u001b[1;32mc:\\GIT\\AutoML_Project2\\.venv\\lib\\site-packages\\numbers_parser\\model.py:608\u001b[0m, in \u001b[0;36m_NumbersModel.storage_buffers\u001b[1;34m(self, table_id)\u001b[0m\n\u001b[0;32m    606\u001b[0m         \u001b[39mraise\u001b[39;00m UnsupportedError(\u001b[39m\"\u001b[39m\u001b[39mPre-BNC storage is unsupported\u001b[39m\u001b[39m\"\u001b[39m)\n\u001b[0;32m    607\u001b[0m     \u001b[39mfor\u001b[39;00m r \u001b[39min\u001b[39;00m tile\u001b[39m.\u001b[39mrowInfos:\n\u001b[1;32m--> 608\u001b[0m         buffer \u001b[39m=\u001b[39m get_storage_buffers_for_row(\n\u001b[0;32m    609\u001b[0m             r\u001b[39m.\u001b[39;49mcell_storage_buffer,\n\u001b[0;32m    610\u001b[0m             r\u001b[39m.\u001b[39;49mcell_offsets,\n\u001b[0;32m    611\u001b[0m             \u001b[39mself\u001b[39;49m\u001b[39m.\u001b[39;49mnumber_of_columns(table_id),\n\u001b[0;32m    612\u001b[0m             r\u001b[39m.\u001b[39;49mhas_wide_offsets,\n\u001b[0;32m    613\u001b[0m         )\n\u001b[0;32m    614\u001b[0m         buffers\u001b[39m.\u001b[39mappend(buffer)\n\u001b[0;32m    615\u001b[0m \u001b[39mreturn\u001b[39;00m buffers\n",
      "File \u001b[1;32mc:\\GIT\\AutoML_Project2\\.venv\\lib\\site-packages\\numbers_parser\\model.py:2149\u001b[0m, in \u001b[0;36mget_storage_buffers_for_row\u001b[1;34m(storage_buffer, offsets, num_cols, has_wide_offsets)\u001b[0m\n\u001b[0;32m   2147\u001b[0m             end \u001b[39m=\u001b[39m offsets[col_num \u001b[39m+\u001b[39m i \u001b[39m+\u001b[39m \u001b[39m1\u001b[39m]\n\u001b[0;32m   2148\u001b[0m             \u001b[39mbreak\u001b[39;00m\n\u001b[1;32m-> 2149\u001b[0m     \u001b[39mif\u001b[39;00m end \u001b[39mis\u001b[39;49;00m \u001b[39mNone\u001b[39;49;00m:\n\u001b[0;32m   2150\u001b[0m         end \u001b[39m=\u001b[39m \u001b[39mlen\u001b[39m(storage_buffer)\n\u001b[0;32m   2151\u001b[0m data\u001b[39m.\u001b[39mappend(storage_buffer[start:end])\n",
      "\u001b[1;31mKeyboardInterrupt\u001b[0m: "
     ]
    }
   ],
   "source": [
    "doc = Document(\"..\\data\\Final_Africa_Master_File.numbers\")\n",
    "sheets = doc.sheets\n",
    "tables = sheets[0].tables\n",
    "rows = tables[0].rows()\n",
    "sheets = doc.sheets()"
   ]
  },
  {
   "cell_type": "markdown",
   "metadata": {},
   "source": []
  }
 ],
 "metadata": {
  "kernelspec": {
   "display_name": ".venv",
   "language": "python",
   "name": "python3"
  },
  "language_info": {
   "codemirror_mode": {
    "name": "ipython",
    "version": 3
   },
   "file_extension": ".py",
   "mimetype": "text/x-python",
   "name": "python",
   "nbconvert_exporter": "python",
   "pygments_lexer": "ipython3",
   "version": "3.10.10"
  }
 },
 "nbformat": 4,
 "nbformat_minor": 2
}
